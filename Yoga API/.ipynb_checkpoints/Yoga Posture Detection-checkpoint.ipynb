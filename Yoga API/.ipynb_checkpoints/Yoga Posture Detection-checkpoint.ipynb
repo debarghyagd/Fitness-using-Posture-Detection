{
 "cells": [
  {
   "cell_type": "code",
   "execution_count": 1,
   "id": "f2dda736",
   "metadata": {},
   "outputs": [
    {
     "name": "stdout",
     "output_type": "stream",
     "text": [
      "pygame 2.3.0 (SDL 2.24.2, Python 3.10.6)\n",
      "Hello from the pygame community. https://www.pygame.org/contribute.html\n"
     ]
    }
   ],
   "source": [
    "import os\n",
    "import json\n",
    "import cv2\n",
    "import mediapipe as mp\n",
    "import numpy as np\n",
    "import pygame\n",
    "mp_drawing = mp.solutions.drawing_utils\n",
    "mp_pose = mp.solutions.pose"
   ]
  },
  {
   "cell_type": "code",
   "execution_count": 2,
   "id": "8fb25ec9",
   "metadata": {},
   "outputs": [],
   "source": [
    "class Pose_Detection:\n",
    "    def __init__(self,img,mean,std):\n",
    "        self.mp_drawing = mp.solutions.drawing_utils\n",
    "        self.mp_pose = mp.solutions.pose\n",
    "        self.yoga_pose = img\n",
    "        self.co_ordinates=[]\n",
    "        self.angles_mapping=dict()\n",
    "        self.results=None\n",
    "        self.mean=mean\n",
    "        self.std=std\n",
    "        self.heads=[\n",
    "            'Head Angle',\n",
    "            'Left-Elbow Angle',\n",
    "            \n",
    "            'Right-Elbow Angle',\n",
    "            'Left-Shoulder Angle',\n",
    "            'Right-Shoulder Angle',\n",
    "            'Left-Hip Angle',\n",
    "            'Right-Hip Angle',\n",
    "            'Left-Knee Angle',\n",
    "            'Right-Knee Angle',\n",
    "            'Left-Ankle Angle',\n",
    "            'Right-Ankle Angle'\n",
    "        ]\n",
    "        \n",
    "    def estimate_position(self):\n",
    "        with self.mp_pose.Pose(min_detection_confidence=0.0, min_tracking_confidence=0.0, model_complexity=2) as pose:\n",
    "            image = cv2.cvtColor(self.yoga_pose, cv2.COLOR_BGR2RGB)\n",
    "            image.flags.writeable = False\n",
    "            # Make detection\n",
    "            self.results = pose.process(image)\n",
    "        \n",
    "    def fill_coordinates(self):\n",
    "        for lndmrk,i in zip(self.mp_pose.PoseLandmark,list(self.results.pose_landmarks.landmark)):\n",
    "            ind=str(lndmrk).index('.')\n",
    "            points={\n",
    "                \"feature\":str(lndmrk)[ind+1:],\n",
    "                \"x\":i.x,\n",
    "                \"y\":i.y,\n",
    "                \"z\":i.z,\n",
    "                \"As-Tuple\":[i.x,i.y,i.z]\n",
    "            }\n",
    "            self.co_ordinates.append(points)\n",
    "            \n",
    "    def calculate_angle(self,a,b,c):\n",
    "        a = np.array(a) # First\n",
    "        b = np.array(b) # Mid\n",
    "        c = np.array(c) # End\n",
    "\n",
    "        radians = np.arctan2(c[1]-b[1], c[0]-b[0]) - np.arctan2(a[1]-b[1], a[0]-b[0])\n",
    "        angle = np.abs(radians*180.0/np.pi)\n",
    "\n",
    "        if angle >180.0:\n",
    "            angle = 360-angle\n",
    "\n",
    "        return angle \n",
    "            \n",
    "    def determine_angles(self):\n",
    "        neck_point=[(self.co_ordinates[12][\"x\"]+self.co_ordinates[11][\"x\"])/2,(self.co_ordinates[12][\"y\"]+self.co_ordinates[11][\"y\"])/2,(self.co_ordinates[12][\"z\"]+self.co_ordinates[11][\"z\"])/2]\n",
    "        self.angles_mapping={'Head':self.calculate_angle(self.co_ordinates[0][\"As-Tuple\"],neck_point,self.co_ordinates[11][\"As-Tuple\"]),\n",
    "                        'Left-Elbow':self.calculate_angle(self.co_ordinates[16][\"As-Tuple\"],self.co_ordinates[14][\"As-Tuple\"],self.co_ordinates[12][\"As-Tuple\"]),\n",
    "                        'Right-Elbow':self.calculate_angle(self.co_ordinates[15][\"As-Tuple\"],self.co_ordinates[13][\"As-Tuple\"],self.co_ordinates[11][\"As-Tuple\"]),\n",
    "                        'Left-Shoulder':self.calculate_angle(self.co_ordinates[24][\"As-Tuple\"],self.co_ordinates[12][\"As-Tuple\"],self.co_ordinates[14][\"As-Tuple\"]),\n",
    "                        'Right-Shoulder':self.calculate_angle(self.co_ordinates[23][\"As-Tuple\"],self.co_ordinates[11][\"As-Tuple\"],self.co_ordinates[13][\"As-Tuple\"]),\n",
    "                        'Left-Hip':self.calculate_angle(self.co_ordinates[12][\"As-Tuple\"],self.co_ordinates[24][\"As-Tuple\"],self.co_ordinates[26][\"As-Tuple\"]),\n",
    "                        'Right-Hip':self.calculate_angle(self.co_ordinates[11][\"As-Tuple\"],self.co_ordinates[23][\"As-Tuple\"],self.co_ordinates[25][\"As-Tuple\"]),\n",
    "                        'Left-Knee':self.calculate_angle(self.co_ordinates[24][\"As-Tuple\"],self.co_ordinates[26][\"As-Tuple\"],self.co_ordinates[28][\"As-Tuple\"]),\n",
    "                        'Right-Knee':self.calculate_angle(self.co_ordinates[23][\"As-Tuple\"],self.co_ordinates[25][\"As-Tuple\"],self.co_ordinates[27][\"As-Tuple\"]),\n",
    "                        'Left-Ankle':self.calculate_angle(self.co_ordinates[26][\"As-Tuple\"],self.co_ordinates[28][\"As-Tuple\"],self.co_ordinates[32][\"As-Tuple\"]),\n",
    "                        'Right-Ankle':self.calculate_angle(self.co_ordinates[25][\"As-Tuple\"],self.co_ordinates[27][\"As-Tuple\"],self.co_ordinates[31][\"As-Tuple\"])}\n",
    "        \n",
    "    def driver(self):\n",
    "        self.estimate_position()\n",
    "        self.fill_coordinates()\n",
    "        self.determine_angles()\n",
    "        self.compare()\n",
    "        self.display()\n",
    "        \n",
    "    def compare(self):\n",
    "        message=\"Perfect!\"\n",
    "        self.accuracy=0\n",
    "        aggregate=[]\n",
    "        self.heads.reverse()\n",
    "        for i in self.heads:\n",
    "            acc_ratio=None\n",
    "            if self.angles_mapping[i[:-6]]<self.mean[i]-self.std[i]:\n",
    "                message=\"Increase your \"+i+\" angle.\"\n",
    "                acc_ratio=2*self.angles_mapping[i[:-6]]/(2*self.mean[i]-self.std[i])\n",
    "            elif self.angles_mapping[i[:-6]]>self.mean[i]+self.std[i]:\n",
    "                message=\"Decrease your \"+i+\" angle.\"\n",
    "                acc_ratio=2*self.angles_mapping[i[:-6]]/(2*self.mean[i]+self.std[i])\n",
    "            else:\n",
    "                acc_ratio=self.angles_mapping[i[:-6]]/self.mean[i]\n",
    "            if acc_ratio>1:\n",
    "                acc_ratio=1-(acc_ratio-1)\n",
    "            aggregate.append(acc_ratio)\n",
    "        self.accuracy=100*sum(aggregate)/len(self.heads)\n",
    "        self.output_message=message\n",
    "        \n",
    "    def display(self):\n",
    "        image=self.yoga_pose\n",
    "        colourR=(0,0,245)\n",
    "        colourG=(0,245,0)\n",
    "        colour=None\n",
    "        if self.accuracy<85:\n",
    "            colour=colourR\n",
    "        else:\n",
    "            colour=colourG\n",
    "        self.mp_drawing.draw_landmarks(image, self.results.pose_landmarks, self.mp_pose.POSE_CONNECTIONS,\n",
    "                                        self.mp_drawing.DrawingSpec(color=(245,0,0), thickness=3, circle_radius=3), \n",
    "                                        self.mp_drawing.DrawingSpec(color=colour, thickness=3, circle_radius=3) \n",
    "                                         ) \n",
    "        self.output_image=image\n"
   ]
  },
  {
   "cell_type": "code",
   "execution_count": 3,
   "id": "cd1fc701",
   "metadata": {},
   "outputs": [
    {
     "name": "stdout",
     "output_type": "stream",
     "text": [
      "Enter Yoga Pose you want to perform:\n",
      "  @media print {\n",
      "    .ms-editor-squiggles-container {\n",
      "      display:none !important;\n",
      "    }\n",
      "  }\n",
      "  .ms-editor-squiggles-container {\n",
      "    all: initial;\n",
      "  }Boat Pose or Paripurna Navasana\n"
     ]
    }
   ],
   "source": [
    "pose_name=input(\"Enter Yoga Pose you want to perform:\")\n",
    "f = open('Asan Posture Data.json')\n",
    "data = json.load(f)\n",
    "mean=data[pose_name][\"mean angle\"]\n",
    "std=data[pose_name][\"std angle\"]"
   ]
  },
  {
   "cell_type": "code",
   "execution_count": 5,
   "id": "60f57411",
   "metadata": {},
   "outputs": [
    {
     "name": "stdout",
     "output_type": "stream",
     "text": [
      "Downloading model to C:\\Users\\LENOVO\\AppData\\Local\\Programs\\Python\\Python310\\lib\\site-packages\\mediapipe/modules/pose_landmark/pose_landmark_heavy.tflite\n"
     ]
    },
    {
     "ename": "HTTPError",
     "evalue": "HTTP Error 404: Not Found",
     "output_type": "error",
     "traceback": [
      "\u001b[1;31m---------------------------------------------------------------------------\u001b[0m",
      "\u001b[1;31mHTTPError\u001b[0m                                 Traceback (most recent call last)",
      "Input \u001b[1;32mIn [5]\u001b[0m, in \u001b[0;36m<module>\u001b[1;34m\u001b[0m\n\u001b[0;32m      6\u001b[0m \u001b[38;5;66;03m# Make detection\u001b[39;00m\n\u001b[0;32m      7\u001b[0m obj\u001b[38;5;241m=\u001b[39mPose_Detection(frame,mean,std)  \n\u001b[1;32m----> 8\u001b[0m \u001b[43mobj\u001b[49m\u001b[38;5;241;43m.\u001b[39;49m\u001b[43mdriver\u001b[49m\u001b[43m(\u001b[49m\u001b[43m)\u001b[49m\n\u001b[0;32m     10\u001b[0m cv2\u001b[38;5;241m.\u001b[39mimshow(\u001b[38;5;124m'\u001b[39m\u001b[38;5;124mMediapipe Feed\u001b[39m\u001b[38;5;124m'\u001b[39m, obj\u001b[38;5;241m.\u001b[39moutput_image)\n\u001b[0;32m     11\u001b[0m \u001b[38;5;28mprint\u001b[39m(\u001b[38;5;28mtype\u001b[39m(obj\u001b[38;5;241m.\u001b[39moutput_image))\n",
      "Input \u001b[1;32mIn [2]\u001b[0m, in \u001b[0;36mPose_Detection.driver\u001b[1;34m(self)\u001b[0m\n\u001b[0;32m     72\u001b[0m \u001b[38;5;28;01mdef\u001b[39;00m \u001b[38;5;21mdriver\u001b[39m(\u001b[38;5;28mself\u001b[39m):\n\u001b[1;32m---> 73\u001b[0m     \u001b[38;5;28;43mself\u001b[39;49m\u001b[38;5;241;43m.\u001b[39;49m\u001b[43mestimate_position\u001b[49m\u001b[43m(\u001b[49m\u001b[43m)\u001b[49m\n\u001b[0;32m     74\u001b[0m     \u001b[38;5;28mself\u001b[39m\u001b[38;5;241m.\u001b[39mfill_coordinates()\n\u001b[0;32m     75\u001b[0m     \u001b[38;5;28mself\u001b[39m\u001b[38;5;241m.\u001b[39mdetermine_angles()\n",
      "Input \u001b[1;32mIn [2]\u001b[0m, in \u001b[0;36mPose_Detection.estimate_position\u001b[1;34m(self)\u001b[0m\n\u001b[0;32m     26\u001b[0m \u001b[38;5;28;01mdef\u001b[39;00m \u001b[38;5;21mestimate_position\u001b[39m(\u001b[38;5;28mself\u001b[39m):\n\u001b[1;32m---> 27\u001b[0m     \u001b[38;5;28;01mwith\u001b[39;00m \u001b[38;5;28;43mself\u001b[39;49m\u001b[38;5;241;43m.\u001b[39;49m\u001b[43mmp_pose\u001b[49m\u001b[38;5;241;43m.\u001b[39;49m\u001b[43mPose\u001b[49m\u001b[43m(\u001b[49m\u001b[43mmin_detection_confidence\u001b[49m\u001b[38;5;241;43m=\u001b[39;49m\u001b[38;5;241;43m0.0\u001b[39;49m\u001b[43m,\u001b[49m\u001b[43m \u001b[49m\u001b[43mmin_tracking_confidence\u001b[49m\u001b[38;5;241;43m=\u001b[39;49m\u001b[38;5;241;43m0.0\u001b[39;49m\u001b[43m,\u001b[49m\u001b[43m \u001b[49m\u001b[43mmodel_complexity\u001b[49m\u001b[38;5;241;43m=\u001b[39;49m\u001b[38;5;241;43m2\u001b[39;49m\u001b[43m)\u001b[49m \u001b[38;5;28;01mas\u001b[39;00m pose:\n\u001b[0;32m     28\u001b[0m         image \u001b[38;5;241m=\u001b[39m cv2\u001b[38;5;241m.\u001b[39mcvtColor(\u001b[38;5;28mself\u001b[39m\u001b[38;5;241m.\u001b[39myoga_pose, cv2\u001b[38;5;241m.\u001b[39mCOLOR_BGR2RGB)\n\u001b[0;32m     29\u001b[0m         image\u001b[38;5;241m.\u001b[39mflags\u001b[38;5;241m.\u001b[39mwriteable \u001b[38;5;241m=\u001b[39m \u001b[38;5;28;01mFalse\u001b[39;00m\n",
      "File \u001b[1;32m~\\AppData\\Local\\Programs\\Python\\Python310\\lib\\site-packages\\mediapipe\\python\\solutions\\pose.py:145\u001b[0m, in \u001b[0;36mPose.__init__\u001b[1;34m(self, static_image_mode, model_complexity, smooth_landmarks, enable_segmentation, smooth_segmentation, min_detection_confidence, min_tracking_confidence)\u001b[0m\n\u001b[0;32m    114\u001b[0m \u001b[38;5;28;01mdef\u001b[39;00m \u001b[38;5;21m__init__\u001b[39m(\u001b[38;5;28mself\u001b[39m,\n\u001b[0;32m    115\u001b[0m              static_image_mode\u001b[38;5;241m=\u001b[39m\u001b[38;5;28;01mFalse\u001b[39;00m,\n\u001b[0;32m    116\u001b[0m              model_complexity\u001b[38;5;241m=\u001b[39m\u001b[38;5;241m1\u001b[39m,\n\u001b[1;32m   (...)\u001b[0m\n\u001b[0;32m    120\u001b[0m              min_detection_confidence\u001b[38;5;241m=\u001b[39m\u001b[38;5;241m0.5\u001b[39m,\n\u001b[0;32m    121\u001b[0m              min_tracking_confidence\u001b[38;5;241m=\u001b[39m\u001b[38;5;241m0.5\u001b[39m):\n\u001b[0;32m    122\u001b[0m   \u001b[38;5;124;03m\"\"\"Initializes a MediaPipe Pose object.\u001b[39;00m\n\u001b[0;32m    123\u001b[0m \n\u001b[0;32m    124\u001b[0m \u001b[38;5;124;03m  Args:\u001b[39;00m\n\u001b[1;32m   (...)\u001b[0m\n\u001b[0;32m    143\u001b[0m \u001b[38;5;124;03m      https://solutions.mediapipe.dev/pose#min_tracking_confidence.\u001b[39;00m\n\u001b[0;32m    144\u001b[0m \u001b[38;5;124;03m  \"\"\"\u001b[39;00m\n\u001b[1;32m--> 145\u001b[0m   \u001b[43m_download_oss_pose_landmark_model\u001b[49m\u001b[43m(\u001b[49m\u001b[43mmodel_complexity\u001b[49m\u001b[43m)\u001b[49m\n\u001b[0;32m    146\u001b[0m   \u001b[38;5;28msuper\u001b[39m()\u001b[38;5;241m.\u001b[39m\u001b[38;5;21m__init__\u001b[39m(\n\u001b[0;32m    147\u001b[0m       binary_graph_path\u001b[38;5;241m=\u001b[39m_BINARYPB_FILE_PATH,\n\u001b[0;32m    148\u001b[0m       side_inputs\u001b[38;5;241m=\u001b[39m{\n\u001b[1;32m   (...)\u001b[0m\n\u001b[0;32m    161\u001b[0m       },\n\u001b[0;32m    162\u001b[0m       outputs\u001b[38;5;241m=\u001b[39m[\u001b[38;5;124m'\u001b[39m\u001b[38;5;124mpose_landmarks\u001b[39m\u001b[38;5;124m'\u001b[39m, \u001b[38;5;124m'\u001b[39m\u001b[38;5;124mpose_world_landmarks\u001b[39m\u001b[38;5;124m'\u001b[39m, \u001b[38;5;124m'\u001b[39m\u001b[38;5;124msegmentation_mask\u001b[39m\u001b[38;5;124m'\u001b[39m])\n",
      "File \u001b[1;32m~\\AppData\\Local\\Programs\\Python\\Python310\\lib\\site-packages\\mediapipe\\python\\solutions\\pose.py:100\u001b[0m, in \u001b[0;36m_download_oss_pose_landmark_model\u001b[1;34m(model_complexity)\u001b[0m\n\u001b[0;32m     97\u001b[0m   download_utils\u001b[38;5;241m.\u001b[39mdownload_oss_model(\n\u001b[0;32m     98\u001b[0m       \u001b[38;5;124m'\u001b[39m\u001b[38;5;124mmediapipe/modules/pose_landmark/pose_landmark_lite.tflite\u001b[39m\u001b[38;5;124m'\u001b[39m)\n\u001b[0;32m     99\u001b[0m \u001b[38;5;28;01melif\u001b[39;00m model_complexity \u001b[38;5;241m==\u001b[39m \u001b[38;5;241m2\u001b[39m:\n\u001b[1;32m--> 100\u001b[0m   \u001b[43mdownload_utils\u001b[49m\u001b[38;5;241;43m.\u001b[39;49m\u001b[43mdownload_oss_model\u001b[49m\u001b[43m(\u001b[49m\n\u001b[0;32m    101\u001b[0m \u001b[43m      \u001b[49m\u001b[38;5;124;43m'\u001b[39;49m\u001b[38;5;124;43mmediapipe/modules/pose_landmark/pose_landmark_heavy.tflite\u001b[39;49m\u001b[38;5;124;43m'\u001b[39;49m\u001b[43m)\u001b[49m\n",
      "File \u001b[1;32m~\\AppData\\Local\\Programs\\Python\\Python310\\lib\\site-packages\\mediapipe\\python\\solutions\\download_utils.py:32\u001b[0m, in \u001b[0;36mdownload_oss_model\u001b[1;34m(model_path)\u001b[0m\n\u001b[0;32m     30\u001b[0m model_url \u001b[38;5;241m=\u001b[39m _OSS_URL_PREFIX \u001b[38;5;241m+\u001b[39m model_path\n\u001b[0;32m     31\u001b[0m \u001b[38;5;28mprint\u001b[39m(\u001b[38;5;124m'\u001b[39m\u001b[38;5;124mDownloading model to \u001b[39m\u001b[38;5;124m'\u001b[39m \u001b[38;5;241m+\u001b[39m model_abspath)\n\u001b[1;32m---> 32\u001b[0m \u001b[38;5;28;01mwith\u001b[39;00m \u001b[43murllib\u001b[49m\u001b[38;5;241;43m.\u001b[39;49m\u001b[43mrequest\u001b[49m\u001b[38;5;241;43m.\u001b[39;49m\u001b[43murlopen\u001b[49m\u001b[43m(\u001b[49m\u001b[43mmodel_url\u001b[49m\u001b[43m)\u001b[49m \u001b[38;5;28;01mas\u001b[39;00m response, \u001b[38;5;28mopen\u001b[39m(model_abspath,\n\u001b[0;32m     33\u001b[0m                                                          \u001b[38;5;124m'\u001b[39m\u001b[38;5;124mwb\u001b[39m\u001b[38;5;124m'\u001b[39m) \u001b[38;5;28;01mas\u001b[39;00m out_file:\n\u001b[0;32m     34\u001b[0m   \u001b[38;5;28;01mif\u001b[39;00m response\u001b[38;5;241m.\u001b[39mcode \u001b[38;5;241m!=\u001b[39m \u001b[38;5;241m200\u001b[39m:\n\u001b[0;32m     35\u001b[0m     \u001b[38;5;28;01mraise\u001b[39;00m \u001b[38;5;167;01mConnectionError\u001b[39;00m(\u001b[38;5;124m'\u001b[39m\u001b[38;5;124mCannot download \u001b[39m\u001b[38;5;124m'\u001b[39m \u001b[38;5;241m+\u001b[39m model_path \u001b[38;5;241m+\u001b[39m\n\u001b[0;32m     36\u001b[0m                           \u001b[38;5;124m'\u001b[39m\u001b[38;5;124m from the MediaPipe Github repo.\u001b[39m\u001b[38;5;124m'\u001b[39m)\n",
      "File \u001b[1;32m~\\AppData\\Local\\Programs\\Python\\Python310\\lib\\urllib\\request.py:216\u001b[0m, in \u001b[0;36murlopen\u001b[1;34m(url, data, timeout, cafile, capath, cadefault, context)\u001b[0m\n\u001b[0;32m    214\u001b[0m \u001b[38;5;28;01melse\u001b[39;00m:\n\u001b[0;32m    215\u001b[0m     opener \u001b[38;5;241m=\u001b[39m _opener\n\u001b[1;32m--> 216\u001b[0m \u001b[38;5;28;01mreturn\u001b[39;00m \u001b[43mopener\u001b[49m\u001b[38;5;241;43m.\u001b[39;49m\u001b[43mopen\u001b[49m\u001b[43m(\u001b[49m\u001b[43murl\u001b[49m\u001b[43m,\u001b[49m\u001b[43m \u001b[49m\u001b[43mdata\u001b[49m\u001b[43m,\u001b[49m\u001b[43m \u001b[49m\u001b[43mtimeout\u001b[49m\u001b[43m)\u001b[49m\n",
      "File \u001b[1;32m~\\AppData\\Local\\Programs\\Python\\Python310\\lib\\urllib\\request.py:525\u001b[0m, in \u001b[0;36mOpenerDirector.open\u001b[1;34m(self, fullurl, data, timeout)\u001b[0m\n\u001b[0;32m    523\u001b[0m \u001b[38;5;28;01mfor\u001b[39;00m processor \u001b[38;5;129;01min\u001b[39;00m \u001b[38;5;28mself\u001b[39m\u001b[38;5;241m.\u001b[39mprocess_response\u001b[38;5;241m.\u001b[39mget(protocol, []):\n\u001b[0;32m    524\u001b[0m     meth \u001b[38;5;241m=\u001b[39m \u001b[38;5;28mgetattr\u001b[39m(processor, meth_name)\n\u001b[1;32m--> 525\u001b[0m     response \u001b[38;5;241m=\u001b[39m \u001b[43mmeth\u001b[49m\u001b[43m(\u001b[49m\u001b[43mreq\u001b[49m\u001b[43m,\u001b[49m\u001b[43m \u001b[49m\u001b[43mresponse\u001b[49m\u001b[43m)\u001b[49m\n\u001b[0;32m    527\u001b[0m \u001b[38;5;28;01mreturn\u001b[39;00m response\n",
      "File \u001b[1;32m~\\AppData\\Local\\Programs\\Python\\Python310\\lib\\urllib\\request.py:634\u001b[0m, in \u001b[0;36mHTTPErrorProcessor.http_response\u001b[1;34m(self, request, response)\u001b[0m\n\u001b[0;32m    631\u001b[0m \u001b[38;5;66;03m# According to RFC 2616, \"2xx\" code indicates that the client's\u001b[39;00m\n\u001b[0;32m    632\u001b[0m \u001b[38;5;66;03m# request was successfully received, understood, and accepted.\u001b[39;00m\n\u001b[0;32m    633\u001b[0m \u001b[38;5;28;01mif\u001b[39;00m \u001b[38;5;129;01mnot\u001b[39;00m (\u001b[38;5;241m200\u001b[39m \u001b[38;5;241m<\u001b[39m\u001b[38;5;241m=\u001b[39m code \u001b[38;5;241m<\u001b[39m \u001b[38;5;241m300\u001b[39m):\n\u001b[1;32m--> 634\u001b[0m     response \u001b[38;5;241m=\u001b[39m \u001b[38;5;28;43mself\u001b[39;49m\u001b[38;5;241;43m.\u001b[39;49m\u001b[43mparent\u001b[49m\u001b[38;5;241;43m.\u001b[39;49m\u001b[43merror\u001b[49m\u001b[43m(\u001b[49m\n\u001b[0;32m    635\u001b[0m \u001b[43m        \u001b[49m\u001b[38;5;124;43m'\u001b[39;49m\u001b[38;5;124;43mhttp\u001b[39;49m\u001b[38;5;124;43m'\u001b[39;49m\u001b[43m,\u001b[49m\u001b[43m \u001b[49m\u001b[43mrequest\u001b[49m\u001b[43m,\u001b[49m\u001b[43m \u001b[49m\u001b[43mresponse\u001b[49m\u001b[43m,\u001b[49m\u001b[43m \u001b[49m\u001b[43mcode\u001b[49m\u001b[43m,\u001b[49m\u001b[43m \u001b[49m\u001b[43mmsg\u001b[49m\u001b[43m,\u001b[49m\u001b[43m \u001b[49m\u001b[43mhdrs\u001b[49m\u001b[43m)\u001b[49m\n\u001b[0;32m    637\u001b[0m \u001b[38;5;28;01mreturn\u001b[39;00m response\n",
      "File \u001b[1;32m~\\AppData\\Local\\Programs\\Python\\Python310\\lib\\urllib\\request.py:563\u001b[0m, in \u001b[0;36mOpenerDirector.error\u001b[1;34m(self, proto, *args)\u001b[0m\n\u001b[0;32m    561\u001b[0m \u001b[38;5;28;01mif\u001b[39;00m http_err:\n\u001b[0;32m    562\u001b[0m     args \u001b[38;5;241m=\u001b[39m (\u001b[38;5;28mdict\u001b[39m, \u001b[38;5;124m'\u001b[39m\u001b[38;5;124mdefault\u001b[39m\u001b[38;5;124m'\u001b[39m, \u001b[38;5;124m'\u001b[39m\u001b[38;5;124mhttp_error_default\u001b[39m\u001b[38;5;124m'\u001b[39m) \u001b[38;5;241m+\u001b[39m orig_args\n\u001b[1;32m--> 563\u001b[0m     \u001b[38;5;28;01mreturn\u001b[39;00m \u001b[38;5;28;43mself\u001b[39;49m\u001b[38;5;241;43m.\u001b[39;49m\u001b[43m_call_chain\u001b[49m\u001b[43m(\u001b[49m\u001b[38;5;241;43m*\u001b[39;49m\u001b[43margs\u001b[49m\u001b[43m)\u001b[49m\n",
      "File \u001b[1;32m~\\AppData\\Local\\Programs\\Python\\Python310\\lib\\urllib\\request.py:496\u001b[0m, in \u001b[0;36mOpenerDirector._call_chain\u001b[1;34m(self, chain, kind, meth_name, *args)\u001b[0m\n\u001b[0;32m    494\u001b[0m \u001b[38;5;28;01mfor\u001b[39;00m handler \u001b[38;5;129;01min\u001b[39;00m handlers:\n\u001b[0;32m    495\u001b[0m     func \u001b[38;5;241m=\u001b[39m \u001b[38;5;28mgetattr\u001b[39m(handler, meth_name)\n\u001b[1;32m--> 496\u001b[0m     result \u001b[38;5;241m=\u001b[39m \u001b[43mfunc\u001b[49m\u001b[43m(\u001b[49m\u001b[38;5;241;43m*\u001b[39;49m\u001b[43margs\u001b[49m\u001b[43m)\u001b[49m\n\u001b[0;32m    497\u001b[0m     \u001b[38;5;28;01mif\u001b[39;00m result \u001b[38;5;129;01mis\u001b[39;00m \u001b[38;5;129;01mnot\u001b[39;00m \u001b[38;5;28;01mNone\u001b[39;00m:\n\u001b[0;32m    498\u001b[0m         \u001b[38;5;28;01mreturn\u001b[39;00m result\n",
      "File \u001b[1;32m~\\AppData\\Local\\Programs\\Python\\Python310\\lib\\urllib\\request.py:643\u001b[0m, in \u001b[0;36mHTTPDefaultErrorHandler.http_error_default\u001b[1;34m(self, req, fp, code, msg, hdrs)\u001b[0m\n\u001b[0;32m    642\u001b[0m \u001b[38;5;28;01mdef\u001b[39;00m \u001b[38;5;21mhttp_error_default\u001b[39m(\u001b[38;5;28mself\u001b[39m, req, fp, code, msg, hdrs):\n\u001b[1;32m--> 643\u001b[0m     \u001b[38;5;28;01mraise\u001b[39;00m HTTPError(req\u001b[38;5;241m.\u001b[39mfull_url, code, msg, hdrs, fp)\n",
      "\u001b[1;31mHTTPError\u001b[0m: HTTP Error 404: Not Found"
     ]
    }
   ],
   "source": [
    "cap = cv2.VideoCapture(0)\n",
    "## Setup mediapipe instance\n",
    "with mp_pose.Pose(min_detection_confidence=0.5, min_tracking_confidence=0.5) as pose:\n",
    "    while cap.isOpened():\n",
    "        ret, frame = cap.read()\n",
    "        # Make detection\n",
    "        obj=Pose_Detection(frame,mean,std)  \n",
    "        obj.driver()\n",
    "        \n",
    "        cv2.imshow('Mediapipe Feed', obj.output_image)\n",
    "        print(type(obj.output_image))\n",
    "        print(obj.output_message+ \"    \"+str(obj.accuracy))\n",
    "\n",
    "        if cv2.waitKey(10) & 0xFF == ord('q'):\n",
    "            break\n",
    "\n",
    "    cap.release()\n",
    "    cv2.destroyAllWindows()"
   ]
  },
  {
   "cell_type": "code",
   "execution_count": null,
   "id": "ad0db4d1",
   "metadata": {},
   "outputs": [],
   "source": []
  }
 ],
 "metadata": {
  "kernelspec": {
   "display_name": "Python 3 (ipykernel)",
   "language": "python",
   "name": "python3"
  },
  "language_info": {
   "codemirror_mode": {
    "name": "ipython",
    "version": 3
   },
   "file_extension": ".py",
   "mimetype": "text/x-python",
   "name": "python",
   "nbconvert_exporter": "python",
   "pygments_lexer": "ipython3",
   "version": "3.10.6"
  }
 },
 "nbformat": 4,
 "nbformat_minor": 5
}
