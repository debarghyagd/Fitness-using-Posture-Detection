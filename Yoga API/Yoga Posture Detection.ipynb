{
 "cells": [
  {
   "cell_type": "code",
   "execution_count": 1,
   "id": "f854295a",
   "metadata": {
    "scrolled": true
   },
   "outputs": [
    {
     "name": "stdout",
     "output_type": "stream",
     "text": [
      "Requirement already satisfied: pygame in c:\\users\\debar\\appdata\\local\\programs\\python\\python310\\lib\\site-packages (2.5.0)"
     ]
    },
    {
     "name": "stderr",
     "output_type": "stream",
     "text": [
      "WARNING: Ignoring invalid distribution -pencv-python (c:\\users\\debar\\appdata\\local\\programs\\python\\python310\\lib\\site-packages)\n",
      "WARNING: Ignoring invalid distribution -pencv-python (c:\\users\\debar\\appdata\\local\\programs\\python\\python310\\lib\\site-packages)\n"
     ]
    },
    {
     "name": "stdout",
     "output_type": "stream",
     "text": [
      "\n",
      "Requirement already satisfied: mediapipe in c:\\users\\debar\\appdata\\local\\programs\\python\\python310\\lib\\site-packages (0.9.1.0)\n",
      "Requirement already satisfied: absl-py in c:\\users\\debar\\appdata\\local\\programs\\python\\python310\\lib\\site-packages (from mediapipe) (1.4.0)\n",
      "Requirement already satisfied: attrs>=19.1.0 in c:\\users\\debar\\appdata\\local\\programs\\python\\python310\\lib\\site-packages (from mediapipe) (21.2.0)\n"
     ]
    },
    {
     "name": "stderr",
     "output_type": "stream",
     "text": [
      "WARNING: Ignoring invalid distribution -pencv-python (c:\\users\\debar\\appdata\\local\\programs\\python\\python310\\lib\\site-packages)\n",
      "WARNING: Ignoring invalid distribution -pencv-python (c:\\users\\debar\\appdata\\local\\programs\\python\\python310\\lib\\site-packages)\n"
     ]
    },
    {
     "name": "stdout",
     "output_type": "stream",
     "text": [
      "Requirement already satisfied: flatbuffers>=2.0 in c:\\users\\debar\\appdata\\local\\programs\\python\\python310\\lib\\site-packages (from mediapipe) (23.3.3)\n",
      "Requirement already satisfied: matplotlib in c:\\users\\debar\\appdata\\local\\programs\\python\\python310\\lib\\site-packages (from mediapipe) (3.6.2)\n",
      "Requirement already satisfied: numpy in c:\\users\\debar\\appdata\\local\\programs\\python\\python310\\lib\\site-packages (from mediapipe) (1.23.4)\n",
      "Requirement already satisfied: opencv-contrib-python in c:\\users\\debar\\appdata\\local\\programs\\python\\python310\\lib\\site-packages (from mediapipe) (4.7.0.72)\n",
      "Requirement already satisfied: protobuf<4,>=3.11 in c:\\users\\debar\\appdata\\local\\programs\\python\\python310\\lib\\site-packages (from mediapipe) (3.19.6)\n",
      "Requirement already satisfied: contourpy>=1.0.1 in c:\\users\\debar\\appdata\\local\\programs\\python\\python310\\lib\\site-packages (from matplotlib->mediapipe) (1.0.6)\n",
      "Requirement already satisfied: cycler>=0.10 in c:\\users\\debar\\appdata\\local\\programs\\python\\python310\\lib\\site-packages (from matplotlib->mediapipe) (0.11.0)\n",
      "Requirement already satisfied: fonttools>=4.22.0 in c:\\users\\debar\\appdata\\local\\programs\\python\\python310\\lib\\site-packages (from matplotlib->mediapipe) (4.38.0)\n",
      "Requirement already satisfied: kiwisolver>=1.0.1 in c:\\users\\debar\\appdata\\local\\programs\\python\\python310\\lib\\site-packages (from matplotlib->mediapipe) (1.4.4)\n",
      "Requirement already satisfied: packaging>=20.0 in c:\\users\\debar\\appdata\\local\\programs\\python\\python310\\lib\\site-packages (from matplotlib->mediapipe) (21.0)\n",
      "Requirement already satisfied: pillow>=6.2.0 in c:\\users\\debar\\appdata\\local\\programs\\python\\python310\\lib\\site-packages (from matplotlib->mediapipe) (9.3.0)\n",
      "Requirement already satisfied: pyparsing>=2.2.1 in c:\\users\\debar\\appdata\\local\\programs\\python\\python310\\lib\\site-packages (from matplotlib->mediapipe) (3.0.3)\n",
      "Requirement already satisfied: python-dateutil>=2.7 in c:\\users\\debar\\appdata\\local\\programs\\python\\python310\\lib\\site-packages (from matplotlib->mediapipe) (2.8.2)\n",
      "Requirement already satisfied: six>=1.5 in c:\\users\\debar\\appdata\\local\\programs\\python\\python310\\lib\\site-packages (from python-dateutil>=2.7->matplotlib->mediapipe) (1.16.0)\n",
      "Requirement already satisfied: opencv-python in c:\\users\\debar\\appdata\\local\\programs\\python\\python310\\lib\\site-packages (4.7.0.72)"
     ]
    },
    {
     "name": "stderr",
     "output_type": "stream",
     "text": [
      "WARNING: Ignoring invalid distribution -pencv-python (c:\\users\\debar\\appdata\\local\\programs\\python\\python310\\lib\\site-packages)\n",
      "WARNING: Ignoring invalid distribution -pencv-python (c:\\users\\debar\\appdata\\local\\programs\\python\\python310\\lib\\site-packages)\n"
     ]
    },
    {
     "name": "stdout",
     "output_type": "stream",
     "text": [
      "\n",
      "Requirement already satisfied: numpy>=1.21.2 in c:\\users\\debar\\appdata\\local\\programs\\python\\python310\\lib\\site-packages (from opencv-python) (1.23.4)\n"
     ]
    }
   ],
   "source": [
    "!pip install pygame\n",
    "!pip install mediapipe\n",
    "!pip install opencv-python"
   ]
  },
  {
   "cell_type": "code",
   "execution_count": 7,
   "id": "f2dda736",
   "metadata": {},
   "outputs": [],
   "source": [
    "import os\n",
    "import json\n",
    "import cv2\n",
    "import mediapipe as mp\n",
    "import numpy as np\n",
    "import pygame\n",
    "mp_drawing = mp.solutions.drawing_utils\n",
    "mp_pose = mp.solutions.pose"
   ]
  },
  {
   "cell_type": "code",
   "execution_count": 8,
   "id": "8fb25ec9",
   "metadata": {},
   "outputs": [],
   "source": [
    "class Pose_Detection:\n",
    "    def __init__(self,img,mean,std):\n",
    "        self.mp_drawing = mp.solutions.drawing_utils\n",
    "        self.mp_pose = mp.solutions.pose\n",
    "        self.yoga_pose = img\n",
    "        self.co_ordinates=[]\n",
    "        self.angles_mapping=dict()\n",
    "        self.results=None\n",
    "        self.mean=mean\n",
    "        self.std=std\n",
    "        self.heads=[\n",
    "            'Head Angle',\n",
    "            'Left-Elbow Angle',            \n",
    "            'Right-Elbow Angle',\n",
    "            'Left-Shoulder Angle',\n",
    "            'Right-Shoulder Angle',\n",
    "            'Left-Hip Angle',\n",
    "            'Right-Hip Angle',\n",
    "            'Left-Knee Angle',\n",
    "            'Right-Knee Angle',\n",
    "            'Left-Ankle Angle',\n",
    "            'Right-Ankle Angle'\n",
    "        ]\n",
    "        \n",
    "    def estimate_position(self):\n",
    "        with self.mp_pose.Pose(min_detection_confidence=0.0, min_tracking_confidence=0.0, model_complexity=1) as pose:\n",
    "            image = cv2.cvtColor(self.yoga_pose, cv2.COLOR_BGR2RGB)\n",
    "            image.flags.writeable = False\n",
    "            # Make detection\n",
    "            self.results = pose.process(image)\n",
    "        \n",
    "    def fill_coordinates(self):\n",
    "        for lndmrk,i in zip(self.mp_pose.PoseLandmark,list(self.results.pose_landmarks.landmark)):\n",
    "            ind=str(lndmrk).index('.')\n",
    "            points={\n",
    "                \"feature\":str(lndmrk)[ind+1:],\n",
    "                \"x\":i.x,\n",
    "                \"y\":i.y,\n",
    "                \"z\":i.z,\n",
    "                \"As-Tuple\":[i.x,i.y,i.z]\n",
    "            }\n",
    "            self.co_ordinates.append(points)\n",
    "            \n",
    "    def calculate_angle(self,a,b,c):\n",
    "        a = np.array(a) # First\n",
    "        b = np.array(b) # Mid\n",
    "        c = np.array(c) # End\n",
    "\n",
    "        radians = np.arctan2(c[1]-b[1], c[0]-b[0]) - np.arctan2(a[1]-b[1], a[0]-b[0])\n",
    "        angle = np.abs(radians*180.0/np.pi)\n",
    "\n",
    "        if angle >180.0:\n",
    "            angle = 360-angle\n",
    "\n",
    "        return angle \n",
    "            \n",
    "    def determine_angles(self):\n",
    "        neck_point=[(self.co_ordinates[12][\"x\"]+self.co_ordinates[11][\"x\"])/2,(self.co_ordinates[12][\"y\"]+self.co_ordinates[11][\"y\"])/2,(self.co_ordinates[12][\"z\"]+self.co_ordinates[11][\"z\"])/2]\n",
    "        self.angles_mapping={'Head':self.calculate_angle(self.co_ordinates[0][\"As-Tuple\"],neck_point,self.co_ordinates[11][\"As-Tuple\"]),\n",
    "                        'Left-Elbow':self.calculate_angle(self.co_ordinates[16][\"As-Tuple\"],self.co_ordinates[14][\"As-Tuple\"],self.co_ordinates[12][\"As-Tuple\"]),\n",
    "                        'Right-Elbow':self.calculate_angle(self.co_ordinates[15][\"As-Tuple\"],self.co_ordinates[13][\"As-Tuple\"],self.co_ordinates[11][\"As-Tuple\"]),\n",
    "                        'Left-Shoulder':self.calculate_angle(self.co_ordinates[24][\"As-Tuple\"],self.co_ordinates[12][\"As-Tuple\"],self.co_ordinates[14][\"As-Tuple\"]),\n",
    "                        'Right-Shoulder':self.calculate_angle(self.co_ordinates[23][\"As-Tuple\"],self.co_ordinates[11][\"As-Tuple\"],self.co_ordinates[13][\"As-Tuple\"]),\n",
    "                        'Left-Hip':self.calculate_angle(self.co_ordinates[12][\"As-Tuple\"],self.co_ordinates[24][\"As-Tuple\"],self.co_ordinates[26][\"As-Tuple\"]),\n",
    "                        'Right-Hip':self.calculate_angle(self.co_ordinates[11][\"As-Tuple\"],self.co_ordinates[23][\"As-Tuple\"],self.co_ordinates[25][\"As-Tuple\"]),\n",
    "                        'Left-Knee':self.calculate_angle(self.co_ordinates[24][\"As-Tuple\"],self.co_ordinates[26][\"As-Tuple\"],self.co_ordinates[28][\"As-Tuple\"]),\n",
    "                        'Right-Knee':self.calculate_angle(self.co_ordinates[23][\"As-Tuple\"],self.co_ordinates[25][\"As-Tuple\"],self.co_ordinates[27][\"As-Tuple\"]),\n",
    "                        'Left-Ankle':self.calculate_angle(self.co_ordinates[26][\"As-Tuple\"],self.co_ordinates[28][\"As-Tuple\"],self.co_ordinates[32][\"As-Tuple\"]),\n",
    "                        'Right-Ankle':self.calculate_angle(self.co_ordinates[25][\"As-Tuple\"],self.co_ordinates[27][\"As-Tuple\"],self.co_ordinates[31][\"As-Tuple\"])}\n",
    "        \n",
    "    def driver(self):\n",
    "        self.estimate_position()\n",
    "        self.fill_coordinates()\n",
    "        self.determine_angles()\n",
    "        self.compare()\n",
    "        self.display()\n",
    "        \n",
    "    def compare(self):\n",
    "        message=\"Perfect!\"\n",
    "        self.accuracy=0\n",
    "        aggregate=[]\n",
    "        self.heads.reverse()\n",
    "        for i in self.heads:\n",
    "            acc_ratio=None\n",
    "            if self.angles_mapping[i[:-6]]<self.mean[i]-self.std[i]:\n",
    "                message=\"Increase your \"+i+\" angle.\"\n",
    "                acc_ratio=2*self.angles_mapping[i[:-6]]/(2*self.mean[i]-self.std[i])\n",
    "            elif self.angles_mapping[i[:-6]]>self.mean[i]+self.std[i]:\n",
    "                message=\"Decrease your \"+i+\" angle.\"\n",
    "                acc_ratio=2*self.angles_mapping[i[:-6]]/(2*self.mean[i]+self.std[i])\n",
    "            else:\n",
    "                acc_ratio=self.angles_mapping[i[:-6]]/self.mean[i]\n",
    "            if acc_ratio>1:\n",
    "                acc_ratio=1-(acc_ratio-1)\n",
    "            aggregate.append(acc_ratio)\n",
    "        self.accuracy=100*sum(aggregate)/len(self.heads)\n",
    "        self.output_message=message\n",
    "        \n",
    "    def display(self):\n",
    "        image=self.yoga_pose\n",
    "        colourR=(0,0,245)\n",
    "        colourG=(0,245,0)\n",
    "        colour=None\n",
    "        if self.accuracy<85:\n",
    "            colour=colourR\n",
    "        else:\n",
    "            colour=colourG\n",
    "        self.mp_drawing.draw_landmarks(image, self.results.pose_landmarks, self.mp_pose.POSE_CONNECTIONS,\n",
    "                                        self.mp_drawing.DrawingSpec(color=(245,0,0), thickness=3, circle_radius=3), \n",
    "                                        self.mp_drawing.DrawingSpec(color=colour, thickness=3, circle_radius=3) \n",
    "                                         ) \n",
    "        self.output_image=image\n"
   ]
  },
  {
   "cell_type": "code",
   "execution_count": 9,
   "id": "cd1fc701",
   "metadata": {},
   "outputs": [
    {
     "name": "stdout",
     "output_type": "stream",
     "text": [
      "Enter Yoga Pose you want to perform:Cobra Pose or Bhujangasana\n"
     ]
    }
   ],
   "source": [
    "pose_name=input(\"Enter Yoga Pose you want to perform:\")\n",
    "f = open('Asan Posture Data.json')\n",
    "data = json.load(f)\n",
    "mean=data[pose_name][\"mean angle\"]\n",
    "std=data[pose_name][\"std angle\"]"
   ]
  },
  {
   "cell_type": "code",
   "execution_count": null,
   "id": "ad0db4d1",
   "metadata": {},
   "outputs": [],
   "source": [
    "cap = cv2.VideoCapture(1)\n",
    "## Setup mediapipe instance\n",
    "with mp_pose.Pose(min_detection_confidence=0.5, min_tracking_confidence=0.5) as pose:\n",
    "    while cap.isOpened():\n",
    "        ret, frame = cap.read()\n",
    "        # Make detection\n",
    "        obj=Pose_Detection(frame,mean,std)  \n",
    "        obj.driver()\n",
    "        \n",
    "        cv2.imshow('Mediapipe Feed', obj.output_image)\n",
    "        print(type(obj.output_image))\n",
    "        print(obj.output_message+ \"    \"+str(obj.accuracy))\n",
    "\n",
    "        if cv2.waitKey(10) & 0xFF == ord('q'):\n",
    "            break\n",
    "\n",
    "    cap.release()\n",
    "    cv2.destroyAllWindows()"
   ]
  },
  {
   "cell_type": "code",
   "execution_count": null,
   "id": "46e67f42-079d-4d62-b980-3a70c8e6eb07",
   "metadata": {},
   "outputs": [],
   "source": []
  }
 ],
 "metadata": {
  "kernelspec": {
   "display_name": "Python 3 (ipykernel)",
   "language": "python",
   "name": "python3"
  },
  "language_info": {
   "codemirror_mode": {
    "name": "ipython",
    "version": 3
   },
   "file_extension": ".py",
   "mimetype": "text/x-python",
   "name": "python",
   "nbconvert_exporter": "python",
   "pygments_lexer": "ipython3",
   "version": "3.10.12"
  },
  "vscode": {
   "interpreter": {
    "hash": "f2ccb58c476f33ba3e3aee7ac07234ef6b8217ef24ad64d2a7d4fed1a57c1cd2"
   }
  }
 },
 "nbformat": 4,
 "nbformat_minor": 5
}
